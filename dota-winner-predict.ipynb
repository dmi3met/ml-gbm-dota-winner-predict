{
 "cells": [
  {
   "cell_type": "markdown",
   "metadata": {},
   "source": [
    "# Предсказание результатов матча в игре Dota 2 по событиям первых 5 минут матча"
   ]
  },
  {
   "cell_type": "markdown",
   "metadata": {},
   "source": [
    "## Подготовка данных\n",
    "Загрузим таблицу с признаками из файла features.csv и удалим признаки, связанные с итогами матча.\n",
    "Поместим в X набор признаков, в y - столбец с целевой переменной radiant_win(победа команды radiant)"
   ]
  },
  {
   "cell_type": "code",
   "execution_count": 33,
   "metadata": {},
   "outputs": [],
   "source": [
    "import pandas\n",
    "import numpy as np\n",
    "from sklearn.model_selection import KFold\n",
    "from sklearn.ensemble import GradientBoostingClassifier\n",
    "from sklearn.metrics import roc_auc_score\n",
    "import time\n",
    "import datetime\n",
    "\n",
    "data = pandas.read_csv('features.csv', index_col='match_id')\n",
    "X = data.loc[:, 'start_time':'dire_first_ward_time']\n",
    "y = data['radiant_win']"
   ]
  },
  {
   "cell_type": "markdown",
   "metadata": {},
   "source": [
    "Проверим, есть ли у нас признаки с пропусками значений, посчитаем количество пропусков"
   ]
  },
  {
   "cell_type": "code",
   "execution_count": 34,
   "metadata": {},
   "outputs": [
    {
     "name": "stdout",
     "output_type": "stream",
     "text": [
      "first_blood_time               19553\n",
      "first_blood_team               19553\n",
      "first_blood_player1            19553\n",
      "first_blood_player2            43987\n",
      "radiant_bottle_time            15691\n",
      "radiant_courier_time             692\n",
      "radiant_flying_courier_time    27479\n",
      "radiant_first_ward_time         1836\n",
      "dire_bottle_time               16143\n",
      "dire_courier_time                676\n",
      "dire_flying_courier_time       26098\n",
      "dire_first_ward_time            1826\n",
      "dtype: int64\n"
     ]
    }
   ],
   "source": [
    "nan_count = X.isnull().sum()\n",
    "print(nan_count[nan_count != 0])"
   ]
  },
  {
   "cell_type": "markdown",
   "metadata": {},
   "source": [
    "Как видите, пропусков достаточно много.\n",
    "Пропуски в датасете связаны с особенностью выборки, ведь мы анализируем только первые 5 минут матча. В первые 5 минут могут не произойти некоторые события(первое убийство героя - first blood, покупка предмета bottle командой radiant - radiant_bottle_time, покупка предмета ward командой dire - dire_first_ward_time)\n",
    "\n",
    "Заменим все пропущенные значения в этом датасете на нули:"
   ]
  },
  {
   "cell_type": "code",
   "execution_count": 37,
   "metadata": {},
   "outputs": [],
   "source": [
    "X.fillna(inplace=True, value=0)"
   ]
  },
  {
   "cell_type": "markdown",
   "metadata": {},
   "source": [
    "Разделим обучающую выборку на 5 блоков с помощью генератора KFold"
   ]
  },
  {
   "cell_type": "code",
   "execution_count": 43,
   "metadata": {},
   "outputs": [],
   "source": [
    "splits = 5\n",
    "kf = KFold(n_splits=splits, random_state=1, shuffle=True)\n",
    "\n",
    "for train, test in kf.split(X):\n",
    "    X_train, X_test = X.iloc[train], X.iloc[test]\n",
    "    y_train, y_test = y.iloc[train], y.iloc[test]"
   ]
  },
  {
   "cell_type": "markdown",
   "metadata": {},
   "source": [
    "## Способ 1 - Градиентный бустинг\n",
    "\n",
    "Обучим наш классификатор для 10, 20 и 30 деревьев. Для каждого количества деревьев будем считать качество классификатора по метрике ROC_AUC и время, в течение которого настраивалась модель"
   ]
  },
  {
   "cell_type": "code",
   "execution_count": 44,
   "metadata": {},
   "outputs": [
    {
     "name": "stdout",
     "output_type": "stream",
     "text": [
      "      Iter       Train Loss   Remaining Time \n",
      "         1           1.3785           18.20s\n",
      "         2           1.3729           15.60s\n",
      "         3           1.3679           13.45s\n",
      "         4           1.3635           11.47s\n",
      "         5           1.3588            9.30s\n",
      "         6           1.3546            7.53s\n",
      "         7           1.3502            5.56s\n",
      "         8           1.3461            3.69s\n",
      "         9           1.3420            1.82s\n",
      "        10           1.3382            0.00s\n",
      "10  trees:  0.13343963512523244  | time:  0:00:21.256109\n",
      "      Iter       Train Loss   Remaining Time \n",
      "         1           1.3785           42.21s\n",
      "         2           1.3729           37.29s\n",
      "         3           1.3679           34.10s\n",
      "         4           1.3635           31.68s\n",
      "         5           1.3588           28.66s\n",
      "         6           1.3546           26.78s\n",
      "         7           1.3502           24.41s\n",
      "         8           1.3461           22.36s\n",
      "         9           1.3420           20.32s\n",
      "        10           1.3382           18.54s\n",
      "        20           1.3082            0.00s\n",
      "20  trees:  0.13679197605906449  | time:  0:00:38.795116\n",
      "      Iter       Train Loss   Remaining Time \n",
      "         1           1.3785            1.01m\n",
      "         2           1.3729           56.71s\n",
      "         3           1.3679           53.33s\n",
      "         4           1.3635           50.91s\n",
      "         5           1.3588           47.35s\n",
      "         6           1.3546           46.51s\n",
      "         7           1.3502           44.64s\n",
      "         8           1.3461           42.57s\n",
      "         9           1.3420           39.83s\n",
      "        10           1.3382           37.63s\n",
      "        20           1.3082           18.49s\n",
      "        30           1.2876            0.00s\n",
      "30  trees:  0.13816209373054167  | time:  0:00:57.252077\n"
     ]
    }
   ],
   "source": [
    "for trees in [10, 20, 30]:\n",
    "    gbm = GradientBoostingClassifier(n_estimators=trees, verbose=True,\n",
    "                                     random_state=241)\n",
    "    gbm_score = 0\n",
    "    start_time = datetime.datetime.now()\n",
    "    gbm.fit(X_train, y_train)\n",
    "    pred = gbm.predict_proba(X_test)[:, 1]\n",
    "    gbm_score += roc_auc_score(y_test, pred)\n",
    "    print(trees, ' trees: ', gbm_score / splits, ' | time: ', datetime.datetime.now() - start_time)"
   ]
  },
  {
   "cell_type": "markdown",
   "metadata": {},
   "source": [
    "Как видим, при увеличении количества деревьев увеличивается качество классификации. Однако, время обучения тоже возрастает. Оптимальное количество деревьев - 30. Чтобы ускоить обучение при дальнейшем увеличении количества деревьев, можно либо уменьшить размеры выборки, либо уменьшить максимальную глубину дерева(max_depth)"
   ]
  },
  {
   "cell_type": "code",
   "execution_count": null,
   "metadata": {},
   "outputs": [],
   "source": []
  }
 ],
 "metadata": {
  "kernelspec": {
   "display_name": "Python 3",
   "language": "python",
   "name": "python3"
  },
  "language_info": {
   "codemirror_mode": {
    "name": "ipython",
    "version": 3
   },
   "file_extension": ".py",
   "mimetype": "text/x-python",
   "name": "python",
   "nbconvert_exporter": "python",
   "pygments_lexer": "ipython3",
   "version": "3.7.4"
  }
 },
 "nbformat": 4,
 "nbformat_minor": 2
}
