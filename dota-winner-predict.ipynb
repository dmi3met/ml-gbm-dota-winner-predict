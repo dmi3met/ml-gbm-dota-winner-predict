{
 "cells": [
  {
   "cell_type": "markdown",
   "metadata": {},
   "source": [
    "# Предсказание результатов матча в игре Dota 2 по событиям первых 5 минут матча"
   ]
  },
  {
   "cell_type": "markdown",
   "metadata": {},
   "source": [
    "## Подготовка данных\n",
    "Загрузим таблицу с признаками из файла features.csv и удалим признаки, связанные с итогами матча.\n",
    "Поместим в X набор признаков, в y - столбец с целевой переменной radiant_win(победа команды radiant)"
   ]
  },
  {
   "cell_type": "code",
   "execution_count": 1,
   "metadata": {},
   "outputs": [],
   "source": [
    "import pandas\n",
    "import numpy as np\n",
    "from sklearn.model_selection import KFold\n",
    "from sklearn.ensemble import GradientBoostingClassifier\n",
    "from sklearn.metrics import roc_auc_score\n",
    "import time\n",
    "import datetime\n",
    "\n",
    "data = pandas.read_csv('features.csv', index_col='match_id')\n",
    "X = data.loc[:, 'start_time':'dire_first_ward_time']\n",
    "y = data['radiant_win']"
   ]
  },
  {
   "cell_type": "markdown",
   "metadata": {},
   "source": [
    "Проверим, есть ли у нас признаки с пропусками значений, посчитаем количество пропусков"
   ]
  },
  {
   "cell_type": "code",
   "execution_count": 2,
   "metadata": {},
   "outputs": [
    {
     "name": "stdout",
     "output_type": "stream",
     "text": [
      "first_blood_time               19553\n",
      "first_blood_team               19553\n",
      "first_blood_player1            19553\n",
      "first_blood_player2            43987\n",
      "radiant_bottle_time            15691\n",
      "radiant_courier_time             692\n",
      "radiant_flying_courier_time    27479\n",
      "radiant_first_ward_time         1836\n",
      "dire_bottle_time               16143\n",
      "dire_courier_time                676\n",
      "dire_flying_courier_time       26098\n",
      "dire_first_ward_time            1826\n",
      "dtype: int64\n"
     ]
    }
   ],
   "source": [
    "nan_count = X.isnull().sum()\n",
    "print(nan_count[nan_count != 0])"
   ]
  },
  {
   "cell_type": "markdown",
   "metadata": {},
   "source": [
    "Как видите, пропусков достаточно много.\n",
    "Пропуски в датасете связаны с особенностью выборки, ведь мы анализируем только первые 5 минут матча. В первые 5 минут могут не произойти некоторые события(первое убийство героя - first blood, покупка предмета bottle командой radiant - radiant_bottle_time, покупка предмета ward командой dire - dire_first_ward_time)\n",
    "\n",
    "Заменим все пропущенные значения в этом датасете на нули:"
   ]
  },
  {
   "cell_type": "code",
   "execution_count": 3,
   "metadata": {},
   "outputs": [],
   "source": [
    "X.fillna(inplace=True, value=0)"
   ]
  },
  {
   "cell_type": "markdown",
   "metadata": {},
   "source": [
    "Разделим обучающую выборку на 5 блоков с помощью генератора KFold"
   ]
  },
  {
   "cell_type": "code",
   "execution_count": 4,
   "metadata": {},
   "outputs": [],
   "source": [
    "kf = KFold(n_splits=5, random_state=1, shuffle=True)\n",
    "\n",
    "for train, test in kf.split(X):\n",
    "    X_train, X_test = X.iloc[train], X.iloc[test]\n",
    "    y_train, y_test = y.iloc[train], y.iloc[test]"
   ]
  },
  {
   "cell_type": "markdown",
   "metadata": {},
   "source": [
    "## Способ 1 - Градиентный бустинг\n",
    "\n",
    "Обучим наш классификатор для 10, 20 и 30 деревьев. Для каждого количества деревьев будем считать качество классификатора по метрике ROC_AUC и время, в течение которого настраивалась модель"
   ]
  },
  {
   "cell_type": "code",
   "execution_count": 6,
   "metadata": {},
   "outputs": [
    {
     "name": "stdout",
     "output_type": "stream",
     "text": [
      "      Iter       Train Loss   Remaining Time \n",
      "         1           1.3785           16.52s\n",
      "         2           1.3729           14.38s\n",
      "         3           1.3679           12.54s\n",
      "         4           1.3635           10.89s\n",
      "         5           1.3588            8.83s\n",
      "         6           1.3546            7.14s\n",
      "         7           1.3502            5.28s\n",
      "         8           1.3461            3.50s\n",
      "         9           1.3420            1.72s\n",
      "        10           1.3382            0.00s\n",
      "10  trees:  0.6671981756261621  | time:  0:00:19.636780\n",
      "      Iter       Train Loss   Remaining Time \n",
      "         1           1.3785           34.66s\n",
      "         2           1.3729           32.62s\n",
      "         3           1.3679           31.03s\n",
      "         4           1.3635           29.27s\n",
      "         5           1.3588           26.71s\n",
      "         6           1.3546           25.09s\n",
      "         7           1.3502           22.94s\n",
      "         8           1.3461           21.05s\n",
      "         9           1.3420           19.02s\n",
      "        10           1.3382           17.24s\n",
      "        20           1.3082            0.00s\n",
      "20  trees:  0.6839598802953224  | time:  0:00:35.715519\n",
      "      Iter       Train Loss   Remaining Time \n",
      "         1           1.3785           51.94s\n",
      "         2           1.3729           49.78s\n",
      "         3           1.3679           48.08s\n",
      "         4           1.3635           46.51s\n",
      "         5           1.3588           43.54s\n",
      "         6           1.3546           42.15s\n",
      "         7           1.3502           39.75s\n",
      "         8           1.3461           37.97s\n",
      "         9           1.3420           35.94s\n",
      "        10           1.3382           34.26s\n",
      "        20           1.3082           16.76s\n",
      "        30           1.2876            0.00s\n",
      "30  trees:  0.6908104686527083  | time:  0:00:54.257940\n",
      "      Iter       Train Loss   Remaining Time \n",
      "         1           1.3785            1.27m\n",
      "         2           1.3729            1.22m\n",
      "         3           1.3679            1.25m\n",
      "         4           1.3635            1.22m\n",
      "         5           1.3588            1.14m\n",
      "         6           1.3546            1.10m\n",
      "         7           1.3502            1.04m\n",
      "         8           1.3461           59.46s\n",
      "         9           1.3420           56.33s\n",
      "        10           1.3382           54.18s\n",
      "        20           1.3082           34.58s\n",
      "        30           1.2876           17.04s\n",
      "        40           1.2728            0.00s\n",
      "40  trees:  0.6950690440992711  | time:  0:01:10.240020\n"
     ]
    }
   ],
   "source": [
    "for trees in [10, 20, 30, 40]:\n",
    "    gbm = GradientBoostingClassifier(n_estimators=trees, verbose=True,\n",
    "                                     random_state=241)\n",
    "    gbm_score = 0\n",
    "    start_time = datetime.datetime.now()\n",
    "    gbm.fit(X_train, y_train)\n",
    "    pred = gbm.predict_proba(X_test)[:, 1]\n",
    "    gbm_score = roc_auc_score(y_test, pred)\n",
    "    print(trees, ' trees: ', gbm_score, ' | time: ', datetime.datetime.now() - start_time)"
   ]
  },
  {
   "cell_type": "markdown",
   "metadata": {},
   "source": [
    "Как видим, при увеличении количества деревьев увеличивается качество классификации. Однако, время обучения тоже возрастает. Оптимальное количество деревьев - 30. Чтобы ускоить обучение при дальнейшем увеличении количества деревьев, можно либо уменьшить размеры выборки, либо уменьшить максимальную глубину дерева(max_depth)"
   ]
  },
  {
   "cell_type": "code",
   "execution_count": null,
   "metadata": {},
   "outputs": [],
   "source": []
  }
 ],
 "metadata": {
  "kernelspec": {
   "display_name": "Python 3",
   "language": "python",
   "name": "python3"
  },
  "language_info": {
   "codemirror_mode": {
    "name": "ipython",
    "version": 3
   },
   "file_extension": ".py",
   "mimetype": "text/x-python",
   "name": "python",
   "nbconvert_exporter": "python",
   "pygments_lexer": "ipython3",
   "version": "3.7.4"
  }
 },
 "nbformat": 4,
 "nbformat_minor": 2
}
